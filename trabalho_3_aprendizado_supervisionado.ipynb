{
  "nbformat": 4,
  "nbformat_minor": 0,
  "metadata": {
    "colab": {
      "provenance": [],
      "authorship_tag": "ABX9TyO4RqAtK4rReD/q4Gp4oVba",
      "include_colab_link": true
    },
    "kernelspec": {
      "name": "python3",
      "display_name": "Python 3"
    }
  },
  "cells": [
    {
      "cell_type": "markdown",
      "metadata": {
        "id": "view-in-github",
        "colab_type": "text"
      },
      "source": [
        "<a href=\"https://colab.research.google.com/github/leandrolustosa/ia-supervised-learning/blob/master/trabalho_3_aprendizado_supervisionado.ipynb\" target=\"_parent\"><img src=\"https://colab.research.google.com/assets/colab-badge.svg\" alt=\"Open In Colab\"/></a>"
      ]
    },
    {
      "cell_type": "markdown",
      "metadata": {
        "id": "cKQJ2bPQ6_Qg"
      },
      "source": [
        "# Carregamento do Dataset"
      ]
    },
    {
      "cell_type": "code",
      "metadata": {
        "id": "j8ydaovH9JGt",
        "colab": {
          "base_uri": "https://localhost:8080/",
          "height": 360
        },
        "outputId": "55bb5a08-cda4-46cb-879b-40a102310176"
      },
      "source": [
        "# estrutura do CSV: age,sex,cp,trestbps,chol,fbs,restecg,thalach,exang,oldpeak,slope,ca,thal,target\n",
        "!wget -O heart-disease-uci.zip https://drive.google.com/uc?id=1IwnAyMCCXjX9NZvkXVm1nKZDkiafpE3P&export=download\n",
        "\n",
        "!unzip -q -d data heart-disease-uci.zip\n",
        "\n",
        "!ls"
      ],
      "execution_count": null,
      "outputs": [
        {
          "output_type": "stream",
          "text": [
            "--2020-09-17 00:55:48--  https://drive.google.com/uc?id=1IwnAyMCCXjX9NZvkXVm1nKZDkiafpE3P\n",
            "Resolving drive.google.com (drive.google.com)... 172.217.218.139, 172.217.218.100, 172.217.218.113, ...\n",
            "Connecting to drive.google.com (drive.google.com)|172.217.218.139|:443... connected.\n",
            "HTTP request sent, awaiting response... 302 Moved Temporarily\n",
            "Location: https://doc-0k-bg-docs.googleusercontent.com/docs/securesc/ha0ro937gcuc7l7deffksulhg5h7mbp1/heidp14si1oli7nertuijtartduuho6k/1600304100000/10352870668252494528/*/1IwnAyMCCXjX9NZvkXVm1nKZDkiafpE3P [following]\n",
            "Warning: wildcards not supported in HTTP.\n",
            "--2020-09-17 00:55:48--  https://doc-0k-bg-docs.googleusercontent.com/docs/securesc/ha0ro937gcuc7l7deffksulhg5h7mbp1/heidp14si1oli7nertuijtartduuho6k/1600304100000/10352870668252494528/*/1IwnAyMCCXjX9NZvkXVm1nKZDkiafpE3P\n",
            "Resolving doc-0k-bg-docs.googleusercontent.com (doc-0k-bg-docs.googleusercontent.com)... 173.194.79.132, 2a00:1450:4013:c05::84\n",
            "Connecting to doc-0k-bg-docs.googleusercontent.com (doc-0k-bg-docs.googleusercontent.com)|173.194.79.132|:443... connected.\n",
            "HTTP request sent, awaiting response... 200 OK\n",
            "Length: 3478 (3.4K) [application/x-zip-compressed]\n",
            "Saving to: ‘heart-disease-uci.zip’\n",
            "\n",
            "heart-disease-uci.z 100%[===================>]   3.40K  --.-KB/s    in 0s      \n",
            "\n",
            "2020-09-17 00:55:48 (47.1 MB/s) - ‘heart-disease-uci.zip’ saved [3478/3478]\n",
            "\n",
            "replace data/heart.csv? [y]es, [n]o, [A]ll, [N]one, [r]ename: A\n",
            "data  heart-disease-uci.zip  sample_data\n"
          ],
          "name": "stdout"
        }
      ]
    },
    {
      "cell_type": "markdown",
      "metadata": {
        "id": "_O69UMJL6saN"
      },
      "source": [
        "# Pré Processamento do Dataset"
      ]
    },
    {
      "cell_type": "code",
      "metadata": {
        "id": "GIM9BGwO9mDz",
        "colab": {
          "base_uri": "https://localhost:8080/",
          "height": 102
        },
        "outputId": "445bc953-91ed-4568-f74c-5f3bc1368c15"
      },
      "source": [
        "!pip install sklearn\n",
        "\n",
        "import time\n",
        "\n",
        "import pandas as pd\n",
        "import numpy as np\n",
        "\n",
        "import matplotlib.pyplot as plt\n",
        "from matplotlib.colors import ListedColormap\n",
        "import seaborn as sns\n",
        "\n",
        "from sklearn.model_selection import train_test_split\n",
        "\n",
        "from sklearn.metrics import confusion_matrix\n",
        "from sklearn.metrics import accuracy_score\n",
        "from sklearn.metrics import precision_score\n",
        "from sklearn.metrics import recall_score\n",
        "\n",
        "data = pd.read_csv(\"/content/data/heart.csv\")\n",
        "\n",
        "target = data[\"target\"]\n",
        "features = data.drop(columns=[\"target\"])\n",
        "\n",
        "for column in features.columns:\n",
        "  min = features[column].min()\n",
        "  features[column] = features[column].apply(lambda x, min: x - min, min=min)\n",
        "\n",
        "  max = features[column].max()\n",
        "  features[column] = features[column].apply(lambda x, max: x / max, max=max)\n",
        "\n",
        "X_train, X_test, y_train, y_test = train_test_split(features, target, test_size=0.3, random_state=42)\n",
        "\n",
        "print('Tamanho da base de treinamento {} registros'.format(len(y_train)))\n",
        "print('Tamanho da base de teste {} registros'.format(len(y_test)))\n"
      ],
      "execution_count": null,
      "outputs": [
        {
          "output_type": "stream",
          "text": [
            "Requirement already satisfied: sklearn in /usr/local/lib/python3.6/dist-packages (0.0)\n",
            "Requirement already satisfied: scikit-learn in /usr/local/lib/python3.6/dist-packages (from sklearn) (0.22.2.post1)\n",
            "Requirement already satisfied: numpy>=1.11.0 in /usr/local/lib/python3.6/dist-packages (from scikit-learn->sklearn) (1.18.5)\n",
            "Requirement already satisfied: scipy>=0.17.0 in /usr/local/lib/python3.6/dist-packages (from scikit-learn->sklearn) (1.4.1)\n",
            "Requirement already satisfied: joblib>=0.11 in /usr/local/lib/python3.6/dist-packages (from scikit-learn->sklearn) (0.16.0)\n"
          ],
          "name": "stdout"
        }
      ]
    },
    {
      "cell_type": "code",
      "metadata": {
        "id": "3pbhJZ536F5-"
      },
      "source": [
        "from tabulate import tabulate\n",
        "\n",
        "from sklearn.neighbors import KNeighborsClassifier\n",
        "from sklearn.svm import SVC\n",
        "from sklearn.ensemble import RandomForestClassifier\n",
        "from sklearn.neural_network import MLPClassifier\n",
        "from sklearn.ensemble import GradientBoostingClassifier\n",
        "import xgboost as xgb\n",
        "\n",
        "names = [\"K-NN\", \"SVM\", \"Random Forest\", \"MLP\", \"Gradient Boosting\", \"XGBoost\"]\n",
        "\n",
        "classificadores = [KNeighborsClassifier(n_neighbors=5),\n",
        "                   SVC(C=1, gamma=2.0),\n",
        "                   RandomForestClassifier(max_depth=5, n_estimators=10),\n",
        "                   MLPClassifier(hidden_layer_sizes=(32, 32), max_iter=50000, batch_size=64, alpha=1e-1),\n",
        "                   GradientBoostingClassifier(n_estimators=10),\n",
        "                   xgb.XGBClassifier(random_state=1,learning_rate=0.01)]\n"
      ],
      "execution_count": null,
      "outputs": []
    },
    {
      "cell_type": "markdown",
      "metadata": {
        "id": "6eewQqR96SCG"
      },
      "source": [
        "# Métricas"
      ]
    },
    {
      "cell_type": "code",
      "metadata": {
        "id": "mcEA7GKT2AmJ",
        "colab": {
          "base_uri": "https://localhost:8080/",
          "height": 1000
        },
        "outputId": "4c0f93ae-92c0-4129-d586-893bbe6d5587"
      },
      "source": [
        "\n",
        "\n",
        "f, axes = plt.subplots(1, 6, figsize=(27, 9), sharex=True)\n",
        "\n",
        "for name, ax, classificador in zip(names, axes, classificadores):\n",
        "\n",
        "  start = time.time()\n",
        "  classificador.fit(X_train, y_train)\n",
        "  stop = time.time()\n",
        "\n",
        "  tempo_treinamento = stop - start\n",
        "\n",
        "  start = time.time()\n",
        "  y_pred = classificador.predict(X_test)\n",
        "  stop = time.time()\n",
        "\n",
        "  tempo_predicao = stop - start\n",
        "\n",
        "  sns.heatmap(confusion_matrix(y_test, y_pred), annot=True, ax=ax)\n",
        "  ax.set_title(name)\n",
        "\n",
        "  d = { 'avg': ['-', 'micro', 'macro', 'weighted'],\n",
        "       'acurácia': ['{:.6f}'.format(accuracy_score(y_test, y_pred)),'','',''],\n",
        "       'precisão': ['',\n",
        "                    '{:.6f}'.format(precision_score(y_test, y_pred, average='micro')),\n",
        "                    '{:.6f}'.format(precision_score(y_test, y_pred, average='macro')),\n",
        "                    '{:.6f}'.format(precision_score(y_test, y_pred, average='weighted'))],\n",
        "       'recall': ['',\n",
        "                  '{:.6f}'.format(recall_score(y_test, y_pred, average='micro')),\n",
        "                  '{:.6f}'.format(recall_score(y_test, y_pred, average='macro')),\n",
        "                  '{:.6f}'.format(recall_score(y_test, y_pred, average='weighted'))],\n",
        "       'treinamento (ms)': ['{:.6f}'.format(tempo_treinamento * 1000),'','',''],\n",
        "       'predição (ms)': ['{:.6f}'.format(tempo_predicao * 1000),'','',''] }\n",
        "\n",
        "  df = pd.DataFrame(data=d)\n",
        "\n",
        "  print('\\n ' + name)\n",
        "  print(tabulate(df, headers='keys', tablefmt='psql'))"
      ],
      "execution_count": null,
      "outputs": [
        {
          "output_type": "stream",
          "text": [
            "Tamanho da base de teste 91 registros\n",
            "\n",
            " K-NN\n",
            "+----+----------+------------+------------+----------+--------------------+-----------------+\n",
            "|    | avg      | acurácia   | precisão   | recall   | treinamento (ms)   | predição (ms)   |\n",
            "|----+----------+------------+------------+----------+--------------------+-----------------|\n",
            "|  0 | -        | 0.780220   |            |          | 1.441717           | 4.726410        |\n",
            "|  1 | micro    |            | 0.780220   | 0.780220 |                    |                 |\n",
            "|  2 | macro    |            | 0.778343   | 0.780244 |                    |                 |\n",
            "|  3 | weighted |            | 0.781721   | 0.780220 |                    |                 |\n",
            "+----+----------+------------+------------+----------+--------------------+-----------------+\n",
            "\n",
            " SVM\n",
            "+----+----------+------------+------------+----------+--------------------+-----------------+\n",
            "|    | avg      | acurácia   | precisão   | recall   | treinamento (ms)   | predição (ms)   |\n",
            "|----+----------+------------+------------+----------+--------------------+-----------------|\n",
            "|  0 | -        | 0.824176   |            |          | 3.679991           | 1.155138        |\n",
            "|  1 | micro    |            | 0.824176   | 0.824176 |                    |                 |\n",
            "|  2 | macro    |            | 0.822432   | 0.824634 |                    |                 |\n",
            "|  3 | weighted |            | 0.825571   | 0.824176 |                    |                 |\n",
            "+----+----------+------------+------------+----------+--------------------+-----------------+\n",
            "\n",
            " Random Forest\n",
            "+----+----------+------------+------------+----------+--------------------+-----------------+\n",
            "|    | avg      | acurácia   | precisão   | recall   | treinamento (ms)   | predição (ms)   |\n",
            "|----+----------+------------+------------+----------+--------------------+-----------------|\n",
            "|  0 | -        | 0.813187   |            |          | 17.287970          | 1.832008        |\n",
            "|  1 | micro    |            | 0.813187   | 0.813187 |                    |                 |\n",
            "|  2 | macro    |            | 0.813555   | 0.808049 |                    |                 |\n",
            "|  3 | weighted |            | 0.813334   | 0.813187 |                    |                 |\n",
            "+----+----------+------------+------------+----------+--------------------+-----------------+\n",
            "\n",
            " MLP\n",
            "+----+----------+------------+------------+----------+--------------------+-----------------+\n",
            "|    | avg      | acurácia   | precisão   | recall   | treinamento (ms)   | predição (ms)   |\n",
            "|----+----------+------------+------------+----------+--------------------+-----------------|\n",
            "|  0 | -        | 0.846154   |            |          | 1178.924799        | 1.022339        |\n",
            "|  1 | micro    |            | 0.846154   | 0.846154 |                    |                 |\n",
            "|  2 | macro    |            | 0.846154   | 0.842439 |                    |                 |\n",
            "|  3 | weighted |            | 0.846154   | 0.846154 |                    |                 |\n",
            "+----+----------+------------+------------+----------+--------------------+-----------------+\n",
            "\n",
            " Gradient Boosting\n",
            "+----+----------+------------+------------+----------+--------------------+-----------------+\n",
            "|    | avg      | acurácia   | precisão   | recall   | treinamento (ms)   | predição (ms)   |\n",
            "|----+----------+------------+------------+----------+--------------------+-----------------|\n",
            "|  0 | -        | 0.813187   |            |          | 11.518717          | 0.844717        |\n",
            "|  1 | micro    |            | 0.813187   | 0.813187 |                    |                 |\n",
            "|  2 | macro    |            | 0.811224   | 0.812439 |                    |                 |\n",
            "|  3 | weighted |            | 0.813747   | 0.813187 |                    |                 |\n",
            "+----+----------+------------+------------+----------+--------------------+-----------------+\n",
            "\n",
            " XGBoost\n",
            "+----+----------+------------+------------+----------+--------------------+-----------------+\n",
            "|    | avg      | acurácia   | precisão   | recall   | treinamento (ms)   | predição (ms)   |\n",
            "|----+----------+------------+------------+----------+--------------------+-----------------|\n",
            "|  0 | -        | 0.813187   |            |          | 30.537605          | 1.128435        |\n",
            "|  1 | micro    |            | 0.813187   | 0.813187 |                    |                 |\n",
            "|  2 | macro    |            | 0.811765   | 0.810244 |                    |                 |\n",
            "|  3 | weighted |            | 0.812928   | 0.813187 |                    |                 |\n",
            "+----+----------+------------+------------+----------+--------------------+-----------------+\n"
          ],
          "name": "stdout"
        },
        {
          "output_type": "display_data",
          "data": {
            "image/png": "[encoded data removed]",
            "text/plain": [
              "<Figure size 1944x648 with 12 Axes>"
            ]
          },
          "metadata": {
            "tags": [],
            "needs_background": "light"
          }
        }
      ]
    },
    {
      "cell_type": "markdown",
      "metadata": {
        "id": "MYVq_m5IeREm"
      },
      "source": [
        "# Conclusão\n",
        "\n",
        "O classificador K-NN apesar de ser o mais rápido entre todos, em relação ao tempo total de treinamento, apresentou a pior acurácia na predição em relação a base de teste, o Gradient Boosting foi o mais rápido na predição, mas a sua acurácia é mediana. Em geral a melhor acurácia ficou dividida entre os classificadores MLP e SVM, no entanto o tempo de treinamento do MLP é o mais alto entre todos, levando mais de 1s no seu processo, tornando assim o SVM mais eficaz. As matrizes de confusão nos mostram um equilíbrio na identificação dos verdadeiros negativos e verdadeiros positivos."
      ]
    }
  ]
}